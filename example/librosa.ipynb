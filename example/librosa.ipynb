{
 "cells": [
  {
   "cell_type": "code",
   "execution_count": 12,
   "metadata": {},
   "outputs": [],
   "source": [
    "import librosa\n",
    "import numpy as np"
   ]
  },
  {
   "cell_type": "code",
   "execution_count": 13,
   "metadata": {},
   "outputs": [
    {
     "name": "stdout",
     "output_type": "stream",
     "text": [
      "y: [ 0.00732422  0.01660156  0.00762939 ... -0.05560303 -0.06106567\n",
      " -0.06417847]\n",
      "y.shape: (661794,)\n",
      "Sample Rate (kHz): 22050\n"
     ]
    }
   ],
   "source": [
    "y, s = librosa.load('../Data/genres_original/blues/blues.00000.wav')\n",
    "\n",
    "print('y:', y, end='\\n')\n",
    "print('y.shape:', np.shape(y), end='\\n')\n",
    "print('Sample Rate (kHz):', s, end='\\n')"
   ]
  }
 ],
 "metadata": {
  "kernelspec": {
   "display_name": "Python 3",
   "language": "python",
   "name": "python3"
  },
  "language_info": {
   "codemirror_mode": {
    "name": "ipython",
    "version": 3
   },
   "file_extension": ".py",
   "mimetype": "text/x-python",
   "name": "python",
   "nbconvert_exporter": "python",
   "pygments_lexer": "ipython3",
   "version": "3.10.4"
  },
  "orig_nbformat": 4
 },
 "nbformat": 4,
 "nbformat_minor": 2
}
